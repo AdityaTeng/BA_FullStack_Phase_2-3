{
 "cells": [
  {
   "cell_type": "code",
   "execution_count": 53,
   "metadata": {},
   "outputs": [],
   "source": [
    "import requests"
   ]
  },
  {
   "cell_type": "markdown",
   "metadata": {},
   "source": [
    "## Get all Songs"
   ]
  },
  {
   "cell_type": "code",
   "execution_count": 54,
   "metadata": {},
   "outputs": [
    {
     "name": "stdout",
     "output_type": "stream",
     "text": [
      "200\n"
     ]
    },
    {
     "data": {
      "text/plain": [
       "[{'title': 'Snow', 'artist': 'Red Hot Chilli Peppers'},\n",
       " {'title': 'No Surprise', 'artist': 'Daughtry'},\n",
       " {'title': 'The Cave', 'artist': 'Mumford & Sons'},\n",
       " {'title': 'Just Say Yes', 'artist': 'Snow Patrol'},\n",
       " {'title': 'The Suburbs', 'artist': 'Arcade Fire'},\n",
       " {'title': 'Jogi', 'artist': 'Swastik The Band'},\n",
       " {'title': 'Oh My Other', 'artist': 'BUNT.'},\n",
       " {'title': 'Dhaani', 'artist': 'Strings'},\n",
       " {'title': 'He', 'artist': 'Jai Paul'},\n",
       " {'title': 'Dark Side', 'artist': 'blink-182'},\n",
       " {'title': 'Dil Se', 'artist': 'A.R. Rehmann'}]"
      ]
     },
     "execution_count": 54,
     "metadata": {},
     "output_type": "execute_result"
    }
   ],
   "source": [
    "response = requests.get('http://127.0.0.1:8000/song/')\n",
    "print(response.status_code)\n",
    "response.json()"
   ]
  },
  {
   "cell_type": "markdown",
   "metadata": {},
   "source": [
    "## Post a Song"
   ]
  },
  {
   "cell_type": "code",
   "execution_count": 55,
   "metadata": {},
   "outputs": [
    {
     "data": {
      "text/plain": [
       "201"
      ]
     },
     "execution_count": 55,
     "metadata": {},
     "output_type": "execute_result"
    }
   ],
   "source": [
    "data = {\n",
    "        \"title\": \"Title_1\",\n",
    "        \"artist\": \"Artist_1\"\n",
    "        }\n",
    "\n",
    "response = requests.post('http://127.0.0.1:8000/song/', json=data)\n",
    "response.status_code"
   ]
  },
  {
   "cell_type": "code",
   "execution_count": null,
   "metadata": {},
   "outputs": [],
   "source": []
  },
  {
   "cell_type": "code",
   "execution_count": 56,
   "metadata": {},
   "outputs": [
    {
     "data": {
      "text/plain": [
       "[{'title': 'Snow', 'artist': 'Red Hot Chilli Peppers'},\n",
       " {'title': 'No Surprise', 'artist': 'Daughtry'},\n",
       " {'title': 'The Cave', 'artist': 'Mumford & Sons'},\n",
       " {'title': 'Just Say Yes', 'artist': 'Snow Patrol'},\n",
       " {'title': 'The Suburbs', 'artist': 'Arcade Fire'},\n",
       " {'title': 'Jogi', 'artist': 'Swastik The Band'},\n",
       " {'title': 'Oh My Other', 'artist': 'BUNT.'},\n",
       " {'title': 'Dhaani', 'artist': 'Strings'},\n",
       " {'title': 'He', 'artist': 'Jai Paul'},\n",
       " {'title': 'Dark Side', 'artist': 'blink-182'},\n",
       " {'title': 'Dil Se', 'artist': 'A.R. Rehmann'},\n",
       " {'title': 'Title_1', 'artist': 'Artist_1'}]"
      ]
     },
     "execution_count": 56,
     "metadata": {},
     "output_type": "execute_result"
    }
   ],
   "source": [
    "response = requests.get('http://127.0.0.1:8000/song/')\n",
    "response.json()"
   ]
  },
  {
   "cell_type": "code",
   "execution_count": null,
   "metadata": {},
   "outputs": [],
   "source": []
  }
 ],
 "metadata": {
  "hide_input": false,
  "kernelspec": {
   "display_name": "Python 3",
   "language": "python",
   "name": "python3"
  },
  "language_info": {
   "codemirror_mode": {
    "name": "ipython",
    "version": 3
   },
   "file_extension": ".py",
   "mimetype": "text/x-python",
   "name": "python",
   "nbconvert_exporter": "python",
   "pygments_lexer": "ipython3",
   "version": "3.7.4"
  }
 },
 "nbformat": 4,
 "nbformat_minor": 2
}
