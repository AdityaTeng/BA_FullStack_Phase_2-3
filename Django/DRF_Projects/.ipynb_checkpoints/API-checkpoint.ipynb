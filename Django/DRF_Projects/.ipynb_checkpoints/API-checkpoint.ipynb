{
 "cells": [
  {
   "cell_type": "code",
   "execution_count": 11,
   "metadata": {},
   "outputs": [
    {
     "data": {
      "text/plain": [
       "200"
      ]
     },
     "execution_count": 11,
     "metadata": {},
     "output_type": "execute_result"
    }
   ],
   "source": [
    "import requests"
   ]
  },
  {
   "cell_type": "markdown",
   "metadata": {},
   "source": [
    "## Get all Songs"
   ]
  },
  {
   "cell_type": "code",
   "execution_count": 21,
   "metadata": {},
   "outputs": [
    {
     "data": {
      "text/plain": [
       "[{'title': 'Snow', 'artist': 'Red Hot Chilli Peppers'},\n",
       " {'title': 'No Surprise', 'artist': 'Daughtry'},\n",
       " {'title': 'The Cave', 'artist': 'Mumford & Sons'},\n",
       " {'title': 'Just Say Yes', 'artist': 'Snow Patrol'},\n",
       " {'title': 'The Suburbs', 'artist': 'Arcade Fire'},\n",
       " {'title': 'Jogi', 'artist': 'Swastik The Band'},\n",
       " {'title': 'Oh My Other', 'artist': 'BUNT.'}]"
      ]
     },
     "execution_count": 21,
     "metadata": {},
     "output_type": "execute_result"
    }
   ],
   "source": [
    "response = requests.get('http://127.0.0.1:8000/song/')\n",
    "response.status_code\n",
    "response.json()"
   ]
  },
  {
   "cell_type": "markdown",
   "metadata": {},
   "source": [
    "## Post a Song"
   ]
  },
  {
   "cell_type": "code",
   "execution_count": 24,
   "metadata": {},
   "outputs": [
    {
     "data": {
      "text/plain": [
       "400"
      ]
     },
     "execution_count": 24,
     "metadata": {},
     "output_type": "execute_result"
    }
   ],
   "source": [
    "import json\n",
    "\n",
    "headers = {\n",
    "    \"Accept\" : \"application/json\"\n",
    "}\n",
    "\n",
    "params = [{\n",
    "        \"title\": \"Dhaani\",\n",
    "        \"artist\": \"Strings\"\n",
    "    }]\n",
    "\n",
    "params = json.dumps(params)\n",
    "\n",
    "response = requests.post('http://127.0.0.1:8000/song/', headers=headers, params=params)\n",
    "response.status_code"
   ]
  },
  {
   "cell_type": "code",
   "execution_count": null,
   "metadata": {},
   "outputs": [],
   "source": []
  }
 ],
 "metadata": {
  "hide_input": false,
  "kernelspec": {
   "display_name": "Python 3",
   "language": "python",
   "name": "python3"
  },
  "language_info": {
   "codemirror_mode": {
    "name": "ipython",
    "version": 3
   },
   "file_extension": ".py",
   "mimetype": "text/x-python",
   "name": "python",
   "nbconvert_exporter": "python",
   "pygments_lexer": "ipython3",
   "version": "3.7.4"
  }
 },
 "nbformat": 4,
 "nbformat_minor": 2
}
